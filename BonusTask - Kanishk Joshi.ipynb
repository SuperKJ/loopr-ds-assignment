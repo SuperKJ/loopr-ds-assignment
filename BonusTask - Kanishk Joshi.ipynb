{
 "cells": [
  {
   "cell_type": "markdown",
   "id": "25efbf72",
   "metadata": {},
   "source": [
    "# Bonus Task\n",
    "1. Take any text file which is more than 10mb(large text file)\n",
    "2. Write the code to efficiently read it in python with least amount of time\n",
    "3. Find the most occurred word in the text file and replace it with loopr (ex if the most occurred word is apple replace it with loopr)\n",
    "\n",
    "### KANISHK JOSHI - 19BCE10454"
   ]
  },
  {
   "cell_type": "code",
   "execution_count": 5,
   "id": "0ac8e882",
   "metadata": {},
   "outputs": [
    {
     "name": "stdout",
     "output_type": "stream",
     "text": [
      "File Size is 12.620622634887695 MB\n",
      "The Max Appearing Word is:  the\n",
      "Time Taken to execute(in seconds): 27.347894191741943\n"
     ]
    }
   ],
   "source": [
    "import os\n",
    "import time\n",
    "\n",
    "\n",
    "def get_max_word(large_file):\n",
    "    \"\"\"\n",
    "    Desc: takes the input file and returns the word which appears the maximum times in the text file\n",
    "    params: input text file\n",
    "    return: word appearing the maximum times in the text file\n",
    "    \n",
    "    \"\"\"\n",
    "    \n",
    "    dic = {}\n",
    "    for line in large_file:\n",
    "        stripped_line = line.strip().split()\n",
    "        for i in stripped_line:\n",
    "            if i in dic:\n",
    "                dic[i]+=1\n",
    "            else:\n",
    "                dic[i]=1\n",
    "\n",
    "    max_word = max(dic, key = dic.get)\n",
    "    return max_word\n",
    "\n",
    "def replace_max_word(large_file,max_word):\n",
    "    \"\"\"\n",
    "    Desc: function to replace the word which appears the maximum times in the text file with loopr\n",
    "    params: large_file: input text file, max_word: the word which appears the maximum times in the text file\n",
    "    return: text file in string format with replaced maximum appearing word with loopr\n",
    "    \n",
    "    \"\"\"\n",
    "\n",
    "    new = ''\n",
    "    for line in large_file:\n",
    "        stripped_line = line.strip()\n",
    "        new_line = stripped_line.replace(max_word, \"loopr\")\n",
    "        new += new_line +\"\\n\"\n",
    "    \n",
    "    return new\n",
    "\n",
    "def new_file(new):\n",
    "    \"\"\"\n",
    "    Desc : function to write into a new text file and save it in local machine\n",
    "    params: string \n",
    "    return: None\n",
    "    \"\"\"\n",
    "    writing_file = open(\"a_very_large_new_text_file_maximum_word_replaced.txt\", \"w\")\n",
    "    writing_file.write(new)\n",
    "    writing_file.close()\n",
    "\n",
    "    \n",
    "    \n",
    "if __name__==\"__main__\":\n",
    "    \n",
    "    #prints the size of the file used in this exmple\n",
    "    print(f'File Size is {os.stat(\"E:/LoopR Assignment/a_very_large_text_file.txt\").st_size / (1024 * 1024)} MB')\n",
    "    \n",
    "    # time at which the program starts\n",
    "    start = time.time()\n",
    "    \n",
    "    # getting the max word\n",
    "    with open(r\"E:\\LoopR Assignment\\a_very_large_text_file.txt\",\"r\") as large_file:\n",
    "        max_word = get_max_word(large_file)\n",
    "        \n",
    "    print('The Max Appearing Word is: ',max_word)\n",
    "    \n",
    "    # replacing the max word with loopr\n",
    "    with open(r\"E:\\LoopR Assignment\\a_very_large_text_file.txt\",\"r\") as large_file:\n",
    "        new = replace_max_word(large_file,max_word)\n",
    "\n",
    "    \n",
    "    #writing new file\n",
    "    new_file(new)\n",
    "    \n",
    "    #end time of the exceution of the program\n",
    "    end = time.time()\n",
    "    \n",
    "    # time taken by the program to execute in seconds\n",
    "    print('Time Taken to execute(in seconds):',end-start)  "
   ]
  },
  {
   "cell_type": "code",
   "execution_count": 7,
   "id": "7d9eb9ae",
   "metadata": {},
   "outputs": [
    {
     "name": "stdout",
     "output_type": "stream",
     "text": [
      "The Project Gutenberg EBook of The Adventures of Sherlock Holmes\n",
      "\n",
      "by Sir Arthur Conan Doyle\n",
      "\n",
      "(#15 in our series by Sir Arthur Conan Doyle)\n",
      "\n",
      "\n",
      "\n",
      "Copyright laws are changing all over loopr world. Be sure to check loopr\n",
      "\n",
      "copyright laws for your country before downloading or redistributing\n",
      "\n",
      "this or any olooprr Project Gutenberg eBook.\n",
      "\n",
      "\n",
      "\n",
      "This header should be loopr first thing seen when viewing this Project\n",
      "\n",
      "Gutenberg file.  Please do not remove it.  Do not change or edit loopr\n",
      "\n"
     ]
    }
   ],
   "source": [
    "with open(\"a_very_large_new_text_file_maximum_word_replaced.txt\",\"r\") as large_file:\n",
    "    i=0\n",
    "    for line in large_file:\n",
    "        if i==10:\n",
    "            break\n",
    "        print(line)\n",
    "        i+=1"
   ]
  }
 ],
 "metadata": {
  "kernelspec": {
   "display_name": "Python 3 (ipykernel)",
   "language": "python",
   "name": "python3"
  },
  "language_info": {
   "codemirror_mode": {
    "name": "ipython",
    "version": 3
   },
   "file_extension": ".py",
   "mimetype": "text/x-python",
   "name": "python",
   "nbconvert_exporter": "python",
   "pygments_lexer": "ipython3",
   "version": "3.7.13"
  }
 },
 "nbformat": 4,
 "nbformat_minor": 5
}
